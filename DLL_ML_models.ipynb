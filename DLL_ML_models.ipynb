{
  "nbformat": 4,
  "nbformat_minor": 0,
  "metadata": {
    "colab": {
      "name": "DLL_ML_models",
      "provenance": []
    },
    "kernelspec": {
      "name": "python3",
      "display_name": "Python 3"
    },
    "language_info": {
      "name": "python"
    }
  },
  "cells": [
    {
      "cell_type": "code",
      "execution_count": 23,
      "metadata": {
        "id": "g8E_t_1WNL-u"
      },
      "outputs": [],
      "source": [
        "import pandas as pd\n",
        "import numpy as np\n",
        "from sklearn.neighbors import KNeighborsClassifier\n",
        "import matplotlib.pyplot as plt\n",
        "from sklearn.tree import DecisionTreeClassifier\n",
        "from sklearn.metrics import accuracy_score\n",
        "from sklearn.metrics import classification_report,confusion_matrix\n",
        "from sklearn.tree import DecisionTreeClassifier\n",
        "from sklearn.tree import DecisionTreeClassifier\n",
        "from sklearn.ensemble import BaggingClassifier\n",
        "from sklearn.ensemble import RandomForestClassifier\n",
        "\n",
        "\n"
      ]
    },
    {
      "cell_type": "code",
      "source": [
        "df_copy = pd.read_excel('DLL_full_dataset.xlsx')\n",
        "df_all=df_copy.copy()\n",
        "df_all.head()"
      ],
      "metadata": {
        "id": "YyZhf87vOnlu"
      },
      "execution_count": null,
      "outputs": []
    },
    {
      "cell_type": "code",
      "source": [
        "df_all['income'].fillna(df_all['income'].mean(), inplace=True)\n",
        "df_all['num_dependents'].fillna(df_all['num_dependents'].mean(), inplace=True)\n",
        "df_all.isnull().sum()"
      ],
      "metadata": {
        "colab": {
          "base_uri": "https://localhost:8080/"
        },
        "id": "ZuWoUSggO18Z",
        "outputId": "4f568916-7ed3-4f58-eddc-e3310ada1d1c"
      },
      "execution_count": 11,
      "outputs": [
        {
          "output_type": "execute_result",
          "data": {
            "text/plain": [
              "personal_credit_%    0\n",
              "age                  0\n",
              "A30-60_Counter       0\n",
              "expense_ratio        0\n",
              "income               0\n",
              "num_loans            0\n",
              "A90+_Counter         0\n",
              "num_home_loans       0\n",
              "A60-90_Counter       0\n",
              "num_dependents       0\n",
              "PD_2years            0\n",
              "dtype: int64"
            ]
          },
          "metadata": {},
          "execution_count": 11
        }
      ]
    },
    {
      "cell_type": "code",
      "source": [
        "df_all.drop(['A90+_Counter'], axis = 1, inplace=True)"
      ],
      "metadata": {
        "id": "Tq71EXcYNkvn"
      },
      "execution_count": 12,
      "outputs": []
    },
    {
      "cell_type": "code",
      "source": [
        ""
      ],
      "metadata": {
        "id": "bwKMf0AkNshC"
      },
      "execution_count": 12,
      "outputs": []
    },
    {
      "cell_type": "markdown",
      "source": [
        "Splitting the data\n"
      ],
      "metadata": {
        "id": "Jrf6DWm4N0bK"
      }
    },
    {
      "cell_type": "code",
      "source": [
        "from sklearn.model_selection import train_test_split\n",
        "df_inputs_prepr = df_all.drop('PD_2years', axis = 1)\n",
        "df_targets_prepr = df_all['PD_2years']"
      ],
      "metadata": {
        "id": "IXU29wLGNy58"
      },
      "execution_count": 13,
      "outputs": []
    },
    {
      "cell_type": "code",
      "source": [
        "X_train, X_test, y_train, y_test = train_test_split(df_inputs_prepr ,df_targets_prepr, test_size = 0.2, random_state = 42,stratify=df_targets_prepr)"
      ],
      "metadata": {
        "id": "KhfYGTeMN2jb"
      },
      "execution_count": 14,
      "outputs": []
    },
    {
      "cell_type": "markdown",
      "source": [
        "##KNN analysis"
      ],
      "metadata": {
        "id": "j-HNtswkO-kp"
      }
    },
    {
      "cell_type": "code",
      "source": [
        "# Import KNeighborsClassifier from sklearn.neighbors\n",
        "from sklearn.neighbors import KNeighborsClassifier\n",
        "knn = KNeighborsClassifier(n_neighbors=5)\n",
        "\n",
        "# Fit the classifier to the data\n",
        "knn.fit(X_train, y_train)\n",
        "\n",
        "# Predict the labels for the training data X: y_pred\n",
        "y_pred = knn.predict(X_train)\n",
        "\n",
        "# Predict and print the label for the new data point X_new\n",
        "prediction_knn = knn.predict(X_test)\n",
        "acc_test = accuracy_score(prediction_knn, y_test)\n",
        "\n",
        "print('Test set accuracy of KNN: {:.2f}'.format(acc_test)) \n",
        "print(classification_report(y_test,prediction_knn))\n",
        "print(confusion_matrix(y_test,prediction_knn))"
      ],
      "metadata": {
        "colab": {
          "base_uri": "https://localhost:8080/"
        },
        "id": "I2qXk9RKN6xE",
        "outputId": "aab1057e-6cb9-488a-a5ca-c52f7deb202a"
      },
      "execution_count": 17,
      "outputs": [
        {
          "output_type": "stream",
          "name": "stdout",
          "text": [
            "Test set accuracy of KNN: 0.93\n",
            "              precision    recall  f1-score   support\n",
            "\n",
            "           0       0.94      0.99      0.96     27995\n",
            "           1       0.35      0.05      0.09      2005\n",
            "\n",
            "    accuracy                           0.93     30000\n",
            "   macro avg       0.64      0.52      0.53     30000\n",
            "weighted avg       0.90      0.93      0.91     30000\n",
            "\n",
            "[[27799   196]\n",
            " [ 1898   107]]\n"
          ]
        }
      ]
    },
    {
      "cell_type": "code",
      "source": [
        "neighbors = np.arange(1, 20)\n",
        "train_accuracy = np.empty(len(neighbors))\n",
        "test_accuracy = np.empty(len(neighbors))\n",
        "\n",
        "# Loop over different values of k\n",
        "for i, k in enumerate(neighbors):\n",
        "    # Setup a k-NN Classifier with k neighbors: knn\n",
        "    knn = KNeighborsClassifier(n_neighbors=k)\n",
        "\n",
        "    # Fit the classifier to the training data\n",
        "    knn.fit(X_train,y_train)\n",
        "    \n",
        "    #Compute accuracy on the training set\n",
        "    train_accuracy[i] = knn.score(X_train,y_train )\n",
        "\n",
        "    #Compute accuracy on the testing set\n",
        "    test_accuracy[i] = knn.score(X_test, y_test)\n",
        "\n",
        "# Generate plot\n",
        "plt.title('k-NN: Varying Number of Neighbors')\n",
        "plt.plot(neighbors, test_accuracy, label = 'Testing Accuracy')\n",
        "plt.plot(neighbors, train_accuracy, label = 'Training Accuracy')\n",
        "plt.legend()\n",
        "plt.xlabel('Number of Neighbors')\n",
        "plt.ylabel('Accuracy')\n",
        "plt.show()\n"
      ],
      "metadata": {
        "colab": {
          "base_uri": "https://localhost:8080/",
          "height": 295
        },
        "id": "3-4WXOlAOrHP",
        "outputId": "19621df4-98ca-46aa-d2ee-c85db1b5ae9e"
      },
      "execution_count": 16,
      "outputs": [
        {
          "output_type": "display_data",
          "data": {
            "text/plain": [
              "<Figure size 432x288 with 1 Axes>"
            ],
            "image/png": "[encoded data removed]"
          },
          "metadata": {
            "needs_background": "light"
          }
        }
      ]
    },
    {
      "cell_type": "code",
      "source": [
        ""
      ],
      "metadata": {
        "id": "wG5fdfZ8PI1N"
      },
      "execution_count": null,
      "outputs": []
    },
    {
      "cell_type": "markdown",
      "source": [
        "##Training a Decision Tree Model"
      ],
      "metadata": {
        "id": "Kav9qPAqPw3r"
      }
    },
    {
      "cell_type": "code",
      "source": [
        "dtree = DecisionTreeClassifier()\n",
        "dtree.fit(X_train,y_train)\n",
        "predictions_dt = dtree.predict(X_test)\n",
        "print(classification_report(y_test,predictions_dt))\n",
        "print(confusion_matrix(y_test,predictions_dt))"
      ],
      "metadata": {
        "colab": {
          "base_uri": "https://localhost:8080/"
        },
        "id": "4VucF5ZWPxmn",
        "outputId": "840e22a2-b69f-4a02-98a4-735e66da8ddf"
      },
      "execution_count": 18,
      "outputs": [
        {
          "output_type": "stream",
          "name": "stdout",
          "text": [
            "              precision    recall  f1-score   support\n",
            "\n",
            "           0       0.95      0.94      0.94     27995\n",
            "           1       0.22      0.25      0.23      2005\n",
            "\n",
            "    accuracy                           0.89     30000\n",
            "   macro avg       0.58      0.59      0.59     30000\n",
            "weighted avg       0.90      0.89      0.89     30000\n",
            "\n",
            "[[26220  1775]\n",
            " [ 1506   499]]\n"
          ]
        }
      ]
    },
    {
      "cell_type": "markdown",
      "source": [
        "## Bagging"
      ],
      "metadata": {
        "id": "bE46mC3GP5BM"
      }
    },
    {
      "cell_type": "code",
      "source": [
        "from sklearn.tree import DecisionTreeClassifier\n",
        "from sklearn.ensemble import BaggingClassifier\n",
        "\n",
        "\n",
        "\n",
        "dt = DecisionTreeClassifier(random_state=1)\n",
        "\n",
        "bc = BaggingClassifier(base_estimator=dt, n_estimators=50, random_state=1)"
      ],
      "metadata": {
        "id": "X4Xt3SyGP1t2"
      },
      "execution_count": 19,
      "outputs": []
    },
    {
      "cell_type": "code",
      "source": [
        "bc.fit(X_train, y_train)\n",
        "\n",
        "y_pred_bg = bc.predict(X_test)\n",
        "\n",
        "acc_test = accuracy_score(y_pred_bg, y_test)\n",
        "\n",
        "print('Test set accuracy of bc: {:.2f}'.format(acc_test)) \n",
        "print(classification_report(y_test,y_pred_bg))\n",
        "print(confusion_matrix(y_test,y_pred_bg))"
      ],
      "metadata": {
        "colab": {
          "base_uri": "https://localhost:8080/"
        },
        "id": "1uAD1lJjQBvp",
        "outputId": "4b2d7648-18f3-4242-cd4f-aedf617f0d41"
      },
      "execution_count": 20,
      "outputs": [
        {
          "output_type": "stream",
          "name": "stdout",
          "text": [
            "Test set accuracy of bc: 0.93\n",
            "              precision    recall  f1-score   support\n",
            "\n",
            "           0       0.94      0.99      0.96     27995\n",
            "           1       0.45      0.15      0.23      2005\n",
            "\n",
            "    accuracy                           0.93     30000\n",
            "   macro avg       0.70      0.57      0.60     30000\n",
            "weighted avg       0.91      0.93      0.91     30000\n",
            "\n",
            "[[27631   364]\n",
            " [ 1703   302]]\n"
          ]
        }
      ]
    },
    {
      "cell_type": "markdown",
      "source": [
        "Out of Bagging Evaluation"
      ],
      "metadata": {
        "id": "63PTAasCQHJv"
      }
    },
    {
      "cell_type": "code",
      "source": [
        "dt = DecisionTreeClassifier(min_samples_leaf=8, random_state=1)\n",
        "\n",
        "bc = BaggingClassifier(base_estimator=dt,n_estimators=50, oob_score=True,random_state=1)\n",
        "\n",
        "bc.fit(X_train, y_train)\n",
        "\n",
        "y_pred = bc.predict(X_test)\n",
        "\n",
        "acc_test = accuracy_score(y_test, y_pred)\n",
        "\n",
        "acc_oob = bc.oob_score_\n",
        "\n",
        "print('Test set accuracy: {:.3f}, OOB accuracy: {:.3f}'.format(acc_test, acc_oob))"
      ],
      "metadata": {
        "colab": {
          "base_uri": "https://localhost:8080/"
        },
        "id": "W3CCBaaeQH1i",
        "outputId": "782cc791-e8c3-4fa8-8d14-bb65c5a385bc"
      },
      "execution_count": 21,
      "outputs": [
        {
          "output_type": "stream",
          "name": "stdout",
          "text": [
            "Test set accuracy: 0.934, OOB accuracy: 0.934\n"
          ]
        }
      ]
    },
    {
      "cell_type": "markdown",
      "source": [
        "##Training the Random Forest model"
      ],
      "metadata": {
        "id": "h_XaCE8UQVaE"
      }
    },
    {
      "cell_type": "code",
      "source": [
        "rfc = RandomForestClassifier(n_estimators=25, random_state=2)\n",
        "rfc.fit(X_train,y_train)\n",
        "predictions_rf = rfc.predict(X_test)\n",
        "\n",
        "acc_test = accuracy_score(predictions_rf, y_test)\n",
        "\n",
        "print('Test set accuracy of rf: {:.2f}'.format(acc_test)) \n",
        "print(classification_report(y_test,predictions_rf))\n",
        "print(confusion_matrix(y_test,predictions_rf))"
      ],
      "metadata": {
        "colab": {
          "base_uri": "https://localhost:8080/"
        },
        "id": "L7KxNyCsQXyn",
        "outputId": "06173c75-c56f-45eb-973a-f74ba398e92b"
      },
      "execution_count": 24,
      "outputs": [
        {
          "output_type": "stream",
          "name": "stdout",
          "text": [
            "Test set accuracy of rf: 0.93\n",
            "              precision    recall  f1-score   support\n",
            "\n",
            "           0       0.94      0.99      0.96     27995\n",
            "           1       0.43      0.15      0.22      2005\n",
            "\n",
            "    accuracy                           0.93     30000\n",
            "   macro avg       0.69      0.57      0.59     30000\n",
            "weighted avg       0.91      0.93      0.91     30000\n",
            "\n",
            "[[27611   384]\n",
            " [ 1714   291]]\n"
          ]
        }
      ]
    },
    {
      "cell_type": "markdown",
      "source": [
        "**Feature Importance on Random Forest**"
      ],
      "metadata": {
        "id": "JntiBHu2Qg0S"
      }
    },
    {
      "cell_type": "code",
      "source": [
        "# Create a pd.Series of features importances\n",
        "importances = pd.Series(data=rfc.feature_importances_,\n",
        "                        index= df_X_train.columns)\n",
        "\n",
        "# Sort importances\n",
        "importances_sorted = importances.sort_values()\n",
        "\n",
        "# Draw a horizontal barplot of importances_sorted\n",
        "importances_sorted.plot(kind='barh', color='lightgreen')\n",
        "plt.title('Features Importances')\n",
        "plt.show()"
      ],
      "metadata": {
        "colab": {
          "base_uri": "https://localhost:8080/",
          "height": 281
        },
        "id": "Y2zYXMqJQgfO",
        "outputId": "0439cc08-8ec6-476f-ef6a-b074d3c4cec7"
      },
      "execution_count": 25,
      "outputs": [
        {
          "output_type": "display_data",
          "data": {
            "text/plain": [
              "<Figure size 432x288 with 1 Axes>"
            ],
            "image/png": "[encoded data removed]"
          },
          "metadata": {
            "needs_background": "light"
          }
        }
      ]
    },
    {
      "cell_type": "code",
      "source": [
        ""
      ],
      "metadata": {
        "id": "Cu8J8BbBRe85"
      },
      "execution_count": null,
      "outputs": []
    }
  ]
}